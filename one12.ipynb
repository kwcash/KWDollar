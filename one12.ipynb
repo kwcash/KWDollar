{
  "nbformat": 4,
  "nbformat_minor": 0,
  "metadata": {
    "colab": {
      "name": "one12.ipynb",
      "provenance": [],
      "collapsed_sections": [],
      "authorship_tag": "ABX9TyONwz1wRRcYdTzV9ClpzMW1",
      "include_colab_link": true
    },
    "kernelspec": {
      "name": "python3",
      "display_name": "Python 3"
    },
    "language_info": {
      "name": "python"
    }
  },
  "cells": [
    {
      "cell_type": "markdown",
      "metadata": {
        "id": "view-in-github",
        "colab_type": "text"
      },
      "source": [
        "<a href=\"https://colab.research.google.com/github/kwcash/KWDollar/blob/main/one12.ipynb\" target=\"_parent\"><img src=\"https://colab.research.google.com/assets/colab-badge.svg\" alt=\"Open In Colab\"/></a>"
      ]
    },
    {
      "cell_type": "code",
      "metadata": {
        "colab": {
          "base_uri": "https://localhost:8080/"
        },
        "id": "2hv_3-zmOiSH",
        "outputId": "8db0f4f5-318d-467a-a9c2-0db0569f1fd5"
      },
      "source": [
        "import requests\n",
        "\n",
        "response = requests.get('https://uselessfacts.jsph.pl/random.json?language=en')\n",
        "\n",
        "print(response.text)"
      ],
      "execution_count": 4,
      "outputs": [
        {
          "output_type": "stream",
          "name": "stdout",
          "text": [
            "{\"id\":\"e994a04f-4c86-40dd-a0c6-2ed336b72821\",\"text\":\"A shark is the only fish that can blink with both eyes.\",\"source\":\"djtech.net\",\"source_url\":\"http:\\/\\/www.djtech.net\\/humor\\/useless_facts.htm\",\"language\":\"en\",\"permalink\":\"https:\\/\\/uselessfacts.jsph.pl\\/e994a04f-4c86-40dd-a0c6-2ed336b72821\"}\n"
          ]
        }
      ]
    },
    {
      "cell_type": "code",
      "metadata": {
        "colab": {
          "base_uri": "https://localhost:8080/"
        },
        "id": "8rCW64IuPh7X",
        "outputId": "4b0c8724-9f65-4872-dce8-bdb36c9173c4"
      },
      "source": [
        "query_parameters={\n",
        "    'language':'en'\n",
        "}\n",
        "print(requests.get('https://uselessfacts.jsph.pl/random.json', params=query_parameters).json().get('text'))\n"
      ],
      "execution_count": 15,
      "outputs": [
        {
          "output_type": "stream",
          "name": "stdout",
          "text": [
            "The dot over the letter `i` is called a tittle.  \n"
          ]
        }
      ]
    },
    {
      "cell_type": "code",
      "metadata": {
        "colab": {
          "base_uri": "https://localhost:8080/"
        },
        "id": "tudIYJe3QhqF",
        "outputId": "d29f6647-a476-47e1-f7df-8ef9f7783f33"
      },
      "source": [
        "query_parameters={\n",
        "    'language':'en'\n",
        "}\n",
        "response = requests.get('https://uselessfacts.jsph.pl/random.json', params=query_parameters)\n",
        "print(response.json().get('text'))\n"
      ],
      "execution_count": 14,
      "outputs": [
        {
          "output_type": "stream",
          "name": "stdout",
          "text": [
            "Only female mosquito’s` bite and most are attracted to the color blue twice as much as to any other color.\n"
          ]
        }
      ]
    },
    {
      "cell_type": "code",
      "metadata": {
        "id": "l9ENhwT_STPu"
      },
      "source": [
        ""
      ],
      "execution_count": null,
      "outputs": []
    },
    {
      "cell_type": "markdown",
      "metadata": {
        "id": "mnyVSIpypd6M"
      },
      "source": [
        "**Data Structures**\n",
        "List, sets and dictionaries.  the three most common\n",
        "first is the starting\n",
        "secdong is the end exclusive (one short(\n",
        "third is the iteration.  step is the term\n"
      ]
    },
    {
      "cell_type": "markdown",
      "metadata": {
        "id": "ey_5daUNpoyo"
      },
      "source": [
        ""
      ]
    },
    {
      "cell_type": "code",
      "metadata": {
        "colab": {
          "base_uri": "https://localhost:8080/"
        },
        "id": "db06-2kTppaf",
        "outputId": "c905e698-ab0c-4684-a60c-ac995a0a0df3"
      },
      "source": [
        "data = ['Joe','Mary']\n",
        "data.append('Andy')\n",
        "data.append('55')\n",
        "data.append('Tony')\n",
        "print(data[0:14])"
      ],
      "execution_count": 29,
      "outputs": [
        {
          "output_type": "stream",
          "name": "stdout",
          "text": [
            "['Joe', 'Mary', 'Andy', '55', 'Tony']\n"
          ]
        }
      ]
    },
    {
      "cell_type": "code",
      "metadata": {
        "colab": {
          "base_uri": "https://localhost:8080/"
        },
        "id": "GjLzKD9ur7G_",
        "outputId": "a71ef141-4b69-4773-8564-e31502080aab"
      },
      "source": [
        "data = {'Joe', 'Mary', 'Andy', '55', 'Tony'}\n",
        "data_dictionary = {\n",
        "  'Joe': 54,\n",
        "  'Mary' : 222, \n",
        "  'Andy' : 3, \n",
        "  '55' : 44,\n",
        "  'Tony' : 77\n",
        "}\n",
        "print(data)\n",
        "print(data_dictionary.get('Mary'))"
      ],
      "execution_count": 34,
      "outputs": [
        {
          "output_type": "stream",
          "name": "stdout",
          "text": [
            "{'55', 'Andy', 'Tony', 'Joe', 'Mary'}\n",
            "222\n"
          ]
        }
      ]
    },
    {
      "cell_type": "code",
      "metadata": {
        "id": "U6tfsx6JtZ8N"
      },
      "source": [
        ""
      ],
      "execution_count": null,
      "outputs": []
    },
    {
      "cell_type": "markdown",
      "metadata": {
        "id": "_MXDFJMqteEX"
      },
      "source": [
        "Guessing Game\n",
        "generate a random number, use the random module\n",
        "do while.  Python doesnt have this built in.  do runs one and possibley will repeat\n",
        "ask for a number abd if we donet get it then it will ask again.  \n",
        "logivd for right and wrong\n",
        "until find the corrct value\n"
      ]
    },
    {
      "cell_type": "code",
      "metadata": {
        "colab": {
          "base_uri": "https://localhost:8080/"
        },
        "id": "qHljrn8st2Zm",
        "outputId": "beb095a2-eb30-441a-8e8d-ee23116ed8d3"
      },
      "source": [
        "from random import randint\n",
        "low = 0\n",
        "high = 100\n",
        "correct = randint(0, 100)\n",
        "print(f'Guess a number between {low} and {high}.')\n",
        "\n",
        "while True:\n",
        "  guess = int(input())\n",
        "\n",
        "  if guess < correct:\n",
        "    print('guess higher')\n",
        "  elif guess > correct:\n",
        "    print('guess lower')\n",
        "  else:\n",
        "    print('got it')\n",
        "    break\n",
        "\n",
        "    #do something"
      ],
      "execution_count": 44,
      "outputs": [
        {
          "output_type": "stream",
          "name": "stdout",
          "text": [
            "Guess a number between 0 and 100.\n",
            "50\n",
            "guess higher\n",
            "75\n",
            "guess higher\n",
            "87\n",
            "guess lower\n",
            "81\n",
            "got it\n"
          ]
        }
      ]
    },
    {
      "cell_type": "code",
      "metadata": {
        "id": "KV0Qzgh596Cq"
      },
      "source": [
        ""
      ],
      "execution_count": null,
      "outputs": []
    }
  ]
}